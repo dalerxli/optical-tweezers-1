{
 "cells": [
  {
   "cell_type": "markdown",
   "metadata": {},
   "source": [
    "## Derivation of the exact discrete dynamical model\n",
    "\n",
    "Instead of numerically approximating the continuous model, we can simulate discrete data by using an exact discrete model describing the dynamics. To derive it, we integrate our differential eq. not from 0 to infinity, but between adjacent discrete points:"
   ]
  },
  {
   "cell_type": "markdown",
   "metadata": {},
   "source": [
    "$$\n",
    "\\begin{align}\n",
    "\\mathrm dx &= -k x \\mathrm dt + \\mathrm dB \\\\\n",
    "\\int_{x_n}^{x_{n+1}} \\mathrm dx &= \\int_{t_n}^{t_{n+1}} -k x \\, \\mathrm dt + \\int_{z_n}^{z_{n+1}} \\mathrm dB\n",
    "\\end{align}\n",
    "$$"
   ]
  }
 ],
 "metadata": {
  "kernelspec": {
   "display_name": "R",
   "language": "R",
   "name": "ir"
  },
  "language_info": {
   "codemirror_mode": "r",
   "file_extension": ".r",
   "mimetype": "text/x-r-source",
   "name": "R",
   "pygments_lexer": "r",
   "version": "3.3.1"
  }
 },
 "nbformat": 4,
 "nbformat_minor": 0
}
