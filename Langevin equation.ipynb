{
 "cells": [
  {
   "cell_type": "markdown",
   "metadata": {},
   "source": [
    "Let us solve the Langevin equation (the Ornstein-Uhlenbeck) for some white noise $\\eta(t)$:\n",
    "\n",
    "$$\\frac{dx(t)}{dt} = - k x(t) + \\eta(t),$$\n",
    "\n",
    "homogenously\n",
    "\n",
    "$$ \\frac{dx(t)}{dt} + k x(t) - \\eta(t) = 0$$"
   ]
  },
  {
   "cell_type": "markdown",
   "metadata": {},
   "source": [
    "Taking the laplace transform we have\n",
    "$$\n",
    "s L x(t) - x(0) + k Lx(t)  - L \\eta(t)) = 0 \\\\\n",
    "L x(t) =  \\frac{L \\eta(t) + x(0)}{s+k} \\\\\n",
    "$$\n",
    "\n",
    "and taking the inverse transform we have\n",
    "$$x(t) = L^{-1}\\left(\\frac{L \\eta(t)}{s+k}\\right) + L^{-1}\\left(\\frac{x(0)}{s+k}\\right)$$"
   ]
  },
  {
   "cell_type": "markdown",
   "metadata": {},
   "source": [
    "The solution is\n",
    "$$x(t) = x(t_0) e^{-k(t - t_0)} + \\int_{t_0}^t e^{-k(t-s)}\\eta(t) ds$$"
   ]
  },
  {
   "cell_type": "markdown",
   "metadata": {},
   "source": [
    "Since $\\eta(t) = \\frac{dB}{dt}$ for Brownian motion $B$, we have\n",
    "$$ \\int_{-\\infty}^{t} e^{-k (t-s)} dB $$"
   ]
  },
  {
   "cell_type": "code",
   "execution_count": null,
   "metadata": {
    "collapsed": true
   },
   "outputs": [],
   "source": []
  }
 ],
 "metadata": {
  "kernelspec": {
   "display_name": "R",
   "language": "R",
   "name": "ir"
  },
  "language_info": {
   "codemirror_mode": "r",
   "file_extension": ".r",
   "mimetype": "text/x-r-source",
   "name": "R",
   "pygments_lexer": "r",
   "version": "3.3.1"
  }
 },
 "nbformat": 4,
 "nbformat_minor": 0
}
